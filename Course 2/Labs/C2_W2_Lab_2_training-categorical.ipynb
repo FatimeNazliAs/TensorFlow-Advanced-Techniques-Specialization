{
 "cells": [
  {
   "cell_type": "code",
   "execution_count": 11,
   "id": "6dd48a21",
   "metadata": {},
   "outputs": [],
   "source": [
    "import tensorflow as tf\n",
    "from tensorflow.keras.models import Model\n",
    "from tensorflow.keras.layers import Dense, Input\n",
    "\n",
    "import numpy as np\n",
    "import matplotlib.pyplot as plt\n",
    "import pandas as pd\n",
    "from sklearn.model_selection import train_test_split\n",
    "from sklearn.metrics import confusion_matrix\n",
    "import itertools\n",
    "from tqdm import tqdm\n",
    "import tensorflow_datasets as tfds\n",
    "import matplotlib.ticker as mticker\n",
    "from tensorflow.keras import datasets"
   ]
  },
  {
   "cell_type": "code",
   "execution_count": 12,
   "id": "e9e9cbb0",
   "metadata": {},
   "outputs": [],
   "source": [
    "train_data, info = tfds.load(\"fashion_mnist\", split = \"train\", with_info = True, data_dir='./data/', download=False)\n",
    "test_data = tfds.load(\"fashion_mnist\", split = \"test\", data_dir='./data/', download=False)"
   ]
  },
  {
   "cell_type": "code",
   "execution_count": 13,
   "id": "48c6a018",
   "metadata": {},
   "outputs": [],
   "source": [
    "class_names = [\"T-shirt/top\", \"Trouser/pants\", \"Pullover shirt\", \"Dress\", \"Coat\", \"Sandal\", \"Shirt\", \"Sneaker\", \"Bag\", \"Ankle boot\"]"
   ]
  },
  {
   "cell_type": "code",
   "execution_count": 14,
   "id": "eaabe776",
   "metadata": {},
   "outputs": [],
   "source": [
    "def format_image(data):\n",
    "    image=data['image']\n",
    "    image=tf.reshape(image,[-1])\n",
    "    image=tf.cast(image,'float32')\n",
    "    image=image/255.0\n",
    "    return image,data['label']\n",
    "\n",
    "train_data=train_data.map(format_image)\n",
    "test_data=test_data.map(format_image)"
   ]
  },
  {
   "cell_type": "code",
   "execution_count": 15,
   "id": "93b072a4",
   "metadata": {},
   "outputs": [],
   "source": [
    "batch_size = 64\n",
    "train =train_data.shuffle(buffer_size=1024).batch(batch_size)\n",
    "\n",
    "test = test_data.batch(batch_size=batch_size)"
   ]
  },
  {
   "cell_type": "code",
   "execution_count": 16,
   "id": "be989855",
   "metadata": {},
   "outputs": [],
   "source": [
    "def base_model():\n",
    "    inputs=tf.keras.Input(shape=(784,),name='digits')\n",
    "    x=tf.keras.layers.Dense(64,activation='relu',name='dense_1')(inputs)\n",
    "    x=tf.keras.layers.Dense(64,activation='relu',name='dense_2')(x)\n",
    "    outputs=tf.keras.layers.Dense(10,activation='softmax',name='predictionss')(x)\n",
    "    model=tf.keras.Model(inputs=inputs,outputs=outputs)\n",
    "    return model"
   ]
  },
  {
   "cell_type": "code",
   "execution_count": 17,
   "id": "58a9baaa",
   "metadata": {},
   "outputs": [],
   "source": [
    "optimizer=tf.keras.optimizers.Adam()\n",
    "loss_object=tf.keras.losses.SparseCategoricalCrossentropy()\n"
   ]
  },
  {
   "cell_type": "code",
   "execution_count": 18,
   "id": "630b2f9e",
   "metadata": {},
   "outputs": [],
   "source": [
    "train_acc_metric=tf.keras.metrics.SparseCategoricalCrossentropy()\n",
    "val_acc_metric=tf.keras.metrics.SparseCategoricalCrossentropy()"
   ]
  },
  {
   "cell_type": "code",
   "execution_count": 19,
   "id": "b1637854",
   "metadata": {},
   "outputs": [],
   "source": [
    "def apply_gradient(optimizer,model,x,y):\n",
    "    with tf.GradientTape() as tape:\n",
    "        logits=model(x)\n",
    "        loss_value=loss_object(y_true=y,y_pred=logits)\n",
    "    gradients=tape.gradient(loss_value,model.trainable_weights)\n",
    "    optimizer.apply_gradients(zip(gradients,model.trainable_weights))\n",
    "        \n",
    "    return logits,loss_value"
   ]
  },
  {
   "cell_type": "code",
   "execution_count": 20,
   "id": "886fe2f2",
   "metadata": {},
   "outputs": [],
   "source": [
    "def train_data_for_one_epoch():\n",
    "    losses=[]\n",
    "    pbar = tqdm(total=len(list(enumerate(train))), position=0, leave=True, bar_format='{l_bar}{bar}| {n_fmt}/{total_fmt} ')\n",
    "    for step,(x_batch_train,y_batch_train) in enumerate(train):\n",
    "        logits,loss_value=apply_gradient(optimizer,model,x_batch_train,y_batch_train)\n",
    "        losses.append(loss_value)\n",
    "        train_acc_metric(y_batch_train,logits)\n",
    "        pbar.set_description(\"Training loss for step %s: %.4f\" % (int(step), float(loss_value)))\n",
    "        pbar.update()\n",
    "    return losses\n",
    "        "
   ]
  },
  {
   "cell_type": "code",
   "execution_count": 21,
   "id": "a1b8cf9d",
   "metadata": {},
   "outputs": [],
   "source": [
    "def perform_validation():\n",
    "    losses=[]\n",
    "    for x_val,y_val in test:\n",
    "        val_logits=model(x_val)\n",
    "        val_loss=loss_object(y_true=y_val, y_pred=val_logits)\n",
    "        losses.append(val_loss)\n",
    "        val_acc_metric(y_val, val_logits)\n",
    "    return losses"
   ]
  },
  {
   "cell_type": "code",
   "execution_count": 22,
   "id": "3078b3dc",
   "metadata": {},
   "outputs": [
    {
     "name": "stdout",
     "output_type": "stream",
     "text": [
      "start of epoch 0\n"
     ]
    },
    {
     "name": "stderr",
     "output_type": "stream",
     "text": [
      "Training loss for step 937: 0.2215: 100%|████████████████████████████████████████████████████████████████████| 938/938 \n"
     ]
    },
    {
     "name": "stdout",
     "output_type": "stream",
     "text": [
      "\n",
      " Epoch 0: Train loss: 0.5364  Validation Loss: 0.4515, Train Accuracy: 0.5365, Validation Accuracy 0.4476\n",
      "start of epoch 1\n"
     ]
    },
    {
     "name": "stderr",
     "output_type": "stream",
     "text": [
      "Training loss for step 937: 0.3424: 100%|████████████████████████████████████████████████████████████████████| 938/938 \n"
     ]
    },
    {
     "name": "stdout",
     "output_type": "stream",
     "text": [
      "\n",
      " Epoch 1: Train loss: 0.3942  Validation Loss: 0.4278, Train Accuracy: 0.3942, Validation Accuracy 0.4241\n",
      "start of epoch 2\n"
     ]
    },
    {
     "name": "stderr",
     "output_type": "stream",
     "text": [
      "Training loss for step 937: 0.2285: 100%|████████████████████████████████████████████████████████████████████| 938/938 \n"
     ]
    },
    {
     "name": "stdout",
     "output_type": "stream",
     "text": [
      "\n",
      " Epoch 2: Train loss: 0.3584  Validation Loss: 0.3718, Train Accuracy: 0.3585, Validation Accuracy 0.3679\n",
      "start of epoch 3\n"
     ]
    },
    {
     "name": "stderr",
     "output_type": "stream",
     "text": [
      "Training loss for step 937: 0.1728: 100%|████████████████████████████████████████████████████████████████████| 938/938 \n"
     ]
    },
    {
     "name": "stdout",
     "output_type": "stream",
     "text": [
      "\n",
      " Epoch 3: Train loss: 0.3332  Validation Loss: 0.3646, Train Accuracy: 0.3333, Validation Accuracy 0.3608\n",
      "start of epoch 4\n"
     ]
    },
    {
     "name": "stderr",
     "output_type": "stream",
     "text": [
      "Training loss for step 937: 0.5236: 100%|████████████████████████████████████████████████████████████████████| 938/938 \n"
     ]
    },
    {
     "name": "stdout",
     "output_type": "stream",
     "text": [
      "\n",
      " Epoch 4: Train loss: 0.3180  Validation Loss: 0.3621, Train Accuracy: 0.3179, Validation Accuracy 0.3578\n",
      "start of epoch 5\n"
     ]
    },
    {
     "name": "stderr",
     "output_type": "stream",
     "text": [
      "Training loss for step 937: 0.1819: 100%|████████████████████████████████████████████████████████████████████| 938/938 \n"
     ]
    },
    {
     "name": "stdout",
     "output_type": "stream",
     "text": [
      "\n",
      " Epoch 5: Train loss: 0.3001  Validation Loss: 0.3538, Train Accuracy: 0.3002, Validation Accuracy 0.3495\n",
      "start of epoch 6\n"
     ]
    },
    {
     "name": "stderr",
     "output_type": "stream",
     "text": [
      "Training loss for step 937: 0.2006: 100%|████████████████████████████████████████████████████████████████████| 938/938 \n"
     ]
    },
    {
     "name": "stdout",
     "output_type": "stream",
     "text": [
      "\n",
      " Epoch 6: Train loss: 0.2900  Validation Loss: 0.3648, Train Accuracy: 0.2901, Validation Accuracy 0.3608\n",
      "start of epoch 7\n"
     ]
    },
    {
     "name": "stderr",
     "output_type": "stream",
     "text": [
      "Training loss for step 937: 0.1687: 100%|████████████████████████████████████████████████████████████████████| 938/938 \n"
     ]
    },
    {
     "name": "stdout",
     "output_type": "stream",
     "text": [
      "\n",
      " Epoch 7: Train loss: 0.2802  Validation Loss: 0.3557, Train Accuracy: 0.2803, Validation Accuracy 0.3516\n",
      "start of epoch 8\n"
     ]
    },
    {
     "name": "stderr",
     "output_type": "stream",
     "text": [
      "Training loss for step 937: 0.1759: 100%|████████████████████████████████████████████████████████████████████| 938/938 \n"
     ]
    },
    {
     "name": "stdout",
     "output_type": "stream",
     "text": [
      "\n",
      " Epoch 8: Train loss: 0.2684  Validation Loss: 0.3435, Train Accuracy: 0.2685, Validation Accuracy 0.3401\n",
      "start of epoch 9\n"
     ]
    },
    {
     "name": "stderr",
     "output_type": "stream",
     "text": [
      "Training loss for step 937: 0.0722: 100%|████████████████████████████████████████████████████████████████████| 938/938 \n"
     ]
    },
    {
     "name": "stdout",
     "output_type": "stream",
     "text": [
      "\n",
      " Epoch 9: Train loss: 0.2630  Validation Loss: 0.3538, Train Accuracy: 0.2631, Validation Accuracy 0.3508\n"
     ]
    }
   ],
   "source": [
    "model=base_model()\n",
    "epochs=10\n",
    "epochs_val_losses,epochs_train_losses=[],[]\n",
    "\n",
    "for epoch in range(epochs):\n",
    "    print('start of epoch %d' %(epoch,))\n",
    "    losses_train=train_data_for_one_epoch()\n",
    "    train_acc=train_acc_metric.result()\n",
    "    \n",
    "    losses_val=perform_validation()\n",
    "    val_acc=val_acc_metric.result()\n",
    "    \n",
    "    losses_train_mean=np.mean(losses_train)\n",
    "    losses_val_mean=np.mean(losses_val)\n",
    "    epochs_val_losses.append(losses_val_mean)\n",
    "    epochs_train_losses.append(losses_train_mean)\n",
    "    \n",
    "    print('\\n Epoch %s: Train loss: %.4f  Validation Loss: %.4f, Train Accuracy: %.4f, Validation Accuracy %.4f' % (epoch, float(losses_train_mean), float(losses_val_mean), float(train_acc), float(val_acc)))\n",
    "    train_acc_metric.reset_states()\n",
    "    val_acc_metric.reset_states()\n",
    "    \n",
    " "
   ]
  },
  {
   "cell_type": "code",
   "execution_count": 25,
   "id": "2db9e81f",
   "metadata": {},
   "outputs": [
    {
     "data": {
      "image/png": "[encoded data removed]",
      "text/plain": [
       "<Figure size 432x288 with 1 Axes>"
      ]
     },
     "metadata": {
      "needs_background": "light"
     },
     "output_type": "display_data"
    }
   ],
   "source": [
    "def plot_metrics(train_metric,val_metric,metric_name,title,ylim=5):\n",
    "    plt.title(title)\n",
    "    plt.ylim(0,ylim)\n",
    "    plt.gca().xaxis.set_major_locator(mticker.MultipleLocator(1))\n",
    "    plt.plot(train_metric,color='blue',label=metric_name)\n",
    "    plt.plot(val_metric,color='green',label='val_'+metric_name)\n",
    "\n",
    "plot_metrics(epochs_train_losses, epochs_val_losses, \"Loss\", \"Loss\", ylim=1.0)\n",
    "    "
   ]
  },
  {
   "cell_type": "code",
   "execution_count": 29,
   "id": "cd01a778",
   "metadata": {},
   "outputs": [],
   "source": [
    "def display_images(image,predictions,labels,title,n):\n",
    "    display_strings=[str(i) +\"\\n\\n\" +str(j) for i,j in zip(predictions,labels)]\n",
    "    plt.figure(figsize=(17,3))\n",
    "    plt.title(title)\n",
    "    plt.yticks([])\n",
    "    plt.xticks([28*x+14 for x in range(n)],display_strings)\n",
    "    plt.grid(None)\n",
    "    image=np.reshape(image,[n,28,28])\n",
    "    image=np.swapaxes(image,0,1)\n",
    "    image=np.reshape(image,[28,28*n])\n",
    "    plt.imshow(image)"
   ]
  },
  {
   "cell_type": "code",
   "execution_count": 30,
   "id": "500bb393",
   "metadata": {},
   "outputs": [
    {
     "data": {
      "image/png": "[encoded data removed]",
      "text/plain": [
       "<Figure size 1224x216 with 1 Axes>"
      ]
     },
     "metadata": {
      "needs_background": "light"
     },
     "output_type": "display_data"
    }
   ],
   "source": [
    "test_inputs = test_data.batch(batch_size=1000001)\n",
    "x_batches, y_pred_batches, y_true_batches = [], [], []\n",
    "\n",
    "for x,y in test_inputs:\n",
    "    y_pred=model(x)\n",
    "    y_pred_batches=y_pred.numpy()\n",
    "    y_true_batches=y.numpy()\n",
    "    x_batches=x.numpy()\n",
    "    \n",
    "indexes = np.random.choice(len(y_pred_batches), size=10)\n",
    "images_to_plot = x_batches[indexes]\n",
    "y_pred_to_plot = y_pred_batches[indexes]\n",
    "y_true_to_plot = y_true_batches[indexes]\n",
    "\n",
    "y_pred_labels = [class_names[np.argmax(sel_y_pred)] for sel_y_pred in y_pred_to_plot]\n",
    "y_true_labels = [class_names[sel_y_true] for sel_y_true in y_true_to_plot]\n",
    "display_images(images_to_plot, y_pred_labels, y_true_labels, \"Predicted and True Values\", 10)"
   ]
  }
 ],
 "metadata": {
  "kernelspec": {
   "display_name": "Python 3 (ipykernel)",
   "language": "python",
   "name": "python3"
  },
  "language_info": {
   "codemirror_mode": {
    "name": "ipython",
    "version": 3
   },
   "file_extension": ".py",
   "mimetype": "text/x-python",
   "name": "python",
   "nbconvert_exporter": "python",
   "pygments_lexer": "ipython3",
   "version": "3.9.7"
  }
 },
 "nbformat": 4,
 "nbformat_minor": 5
}
