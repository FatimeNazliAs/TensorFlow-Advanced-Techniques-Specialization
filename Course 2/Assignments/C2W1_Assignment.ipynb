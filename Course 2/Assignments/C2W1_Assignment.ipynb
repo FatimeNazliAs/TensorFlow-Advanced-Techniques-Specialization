{
 "cells": [
  {
   "cell_type": "code",
   "execution_count": 1,
   "id": "c8de356a",
   "metadata": {},
   "outputs": [],
   "source": [
    "import tensorflow as tf\n",
    "import numpy as np"
   ]
  },
  {
   "cell_type": "code",
   "execution_count": 3,
   "id": "e045d5ab",
   "metadata": {},
   "outputs": [
    {
     "data": {
      "text/plain": [
       "<tf.Tensor: shape=(9,), dtype=int32, numpy=array([1, 2, 3, 4, 5, 6, 7, 8, 9])>"
      ]
     },
     "execution_count": 3,
     "metadata": {},
     "output_type": "execute_result"
    }
   ],
   "source": [
    "def tf_constant(array):\n",
    "    tf_constant_array=tf.constant(array)\n",
    "    return tf_constant_array\n",
    "\n",
    "tmp_array=np.arange(1,10)\n",
    "x=tf_constant(tmp_array)\n",
    "x"
   ]
  },
  {
   "cell_type": "code",
   "execution_count": 5,
   "id": "9d453061",
   "metadata": {},
   "outputs": [
    {
     "data": {
      "text/plain": [
       "<tf.Tensor: shape=(9,), dtype=int32, numpy=array([ 1,  4,  9, 16, 25, 36, 49, 64, 81])>"
      ]
     },
     "execution_count": 5,
     "metadata": {},
     "output_type": "execute_result"
    }
   ],
   "source": [
    "def tf_square(array):\n",
    "    array=tf.constant(array)\n",
    "    tf_squared_array=tf.square(array)\n",
    "    return tf_squared_array\n",
    "\n",
    "tmp_array = tf.constant(np.arange(1, 10))\n",
    "x = tf_square(tmp_array)\n",
    "x"
   ]
  },
  {
   "cell_type": "code",
   "execution_count": 11,
   "id": "ff89c21a",
   "metadata": {},
   "outputs": [
    {
     "data": {
      "text/plain": [
       "<tf.Tensor: shape=(3, 3), dtype=int32, numpy=\n",
       "array([[1, 2, 3],\n",
       "       [4, 5, 6],\n",
       "       [7, 8, 9]])>"
      ]
     },
     "execution_count": 11,
     "metadata": {},
     "output_type": "execute_result"
    }
   ],
   "source": [
    "def tf_reshape(array,shape):\n",
    "    array=tf.constant(array)\n",
    "    tf_reshaped_array=tf.reshape(array,shape)\n",
    "    return tf_reshaped_array\n",
    "    \n",
    "x = tf_reshape(tmp_array, (3, 3))\n",
    "x"
   ]
  },
  {
   "cell_type": "code",
   "execution_count": 12,
   "id": "b5993d92",
   "metadata": {},
   "outputs": [
    {
     "data": {
      "text/plain": [
       "<tf.Tensor: shape=(4,), dtype=float32, numpy=array([1., 2., 3., 4.], dtype=float32)>"
      ]
     },
     "execution_count": 12,
     "metadata": {},
     "output_type": "execute_result"
    }
   ],
   "source": [
    "def tf_cast(array,dtype):\n",
    "    array=tf.constant(array)\n",
    "    tf_cast_array=tf.cast(array,dtype)\n",
    "    return tf_cast_array\n",
    "tmp_array = [1,2,3,4]\n",
    "x = tf_cast(tmp_array, tf.float32)\n",
    "x"
   ]
  },
  {
   "cell_type": "code",
   "execution_count": 14,
   "id": "cbd97019",
   "metadata": {},
   "outputs": [
    {
     "data": {
      "text/plain": [
       "29.0"
      ]
     },
     "execution_count": 14,
     "metadata": {},
     "output_type": "execute_result"
    }
   ],
   "source": [
    "def tf_gradient_tape(x):\n",
    "    with tf.GradientTape() as t:\n",
    "        t.watch(x)\n",
    "        # Define a polynomial of form 3x^3 - 2x^2 + x\n",
    "        y =  3*x**3 - 2*x**2 + x\n",
    "        z=tf.reduce_sum(y)\n",
    "    dz_dx=t.gradient(z,x)\n",
    "    return dz_dx\n",
    "\n",
    "tmp_x = tf.constant(2.0)\n",
    "dz_dx = tf_gradient_tape(tmp_x)\n",
    "result = dz_dx.numpy()\n",
    "result\n",
    "\n",
    "        "
   ]
  }
 ],
 "metadata": {
  "kernelspec": {
   "display_name": "Python 3 (ipykernel)",
   "language": "python",
   "name": "python3"
  },
  "language_info": {
   "codemirror_mode": {
    "name": "ipython",
    "version": 3
   },
   "file_extension": ".py",
   "mimetype": "text/x-python",
   "name": "python",
   "nbconvert_exporter": "python",
   "pygments_lexer": "ipython3",
   "version": "3.9.7"
  }
 },
 "nbformat": 4,
 "nbformat_minor": 5
}
