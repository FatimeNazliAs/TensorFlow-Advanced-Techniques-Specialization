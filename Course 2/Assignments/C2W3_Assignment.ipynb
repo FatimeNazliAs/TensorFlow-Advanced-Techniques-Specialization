{
 "cells": [
  {
   "cell_type": "markdown",
   "id": "34e101ea",
   "metadata": {},
   "source": [
    "# Horse or Human? In-graph training loop Assignment\n",
    "\n",
    "This assignment lets you practice how to train a Keras model on the horses_or_humans dataset with the entire training process performed in graph mode. These steps include:\n",
    "\n",
    "    loading batches\n",
    "    calculating gradients\n",
    "    updating parameters\n",
    "    calculating validation accuracy\n",
    "    repeating the loop until convergence"
   ]
  },
  {
   "cell_type": "code",
   "execution_count": 4,
   "id": "7631640b",
   "metadata": {},
   "outputs": [],
   "source": [
    "from __future__ import absolute_import, division, print_function, unicode_literals\n",
    "import numpy as np\n",
    "\n",
    "\n",
    "import tensorflow as tf\n",
    "import tensorflow_datasets as tfds\n",
    "import tensorflow_hub as hub\n",
    "import matplotlib.pyplot as plt\n"
   ]
  },
  {
   "cell_type": "code",
   "execution_count": 26,
   "id": "025d6e37",
   "metadata": {},
   "outputs": [
    {
     "name": "stdout",
     "output_type": "stream",
     "text": [
      "1027\n",
      "2\n"
     ]
    }
   ],
   "source": [
    "splits, info = tfds.load('horses_or_humans', as_supervised=True, with_info=True, split=['train[:80%]', 'train[80%:]', 'test'], data_dir='./data3')\n",
    "\n",
    "(train_examples, validation_examples, test_examples) = splits\n",
    "\n",
    "num_examples = info.splits['train'].num_examples\n",
    "print(num_examples)\n",
    "num_classes = info.features['label'].num_classes\n",
    "print(num_classes)"
   ]
  },
  {
   "cell_type": "code",
   "execution_count": 27,
   "id": "a1b9f739",
   "metadata": {},
   "outputs": [],
   "source": [
    "BATCH_SIZE = 32\n",
    "IMAGE_SIZE = 224"
   ]
  },
  {
   "cell_type": "code",
   "execution_count": 28,
   "id": "1398cde8",
   "metadata": {},
   "outputs": [],
   "source": [
    "@tf.function\n",
    "def map_fn(img,label):\n",
    "    image_height=224\n",
    "    image_width=224\n",
    "    img=tf.image.resize(img,(image_height,image_width))\n",
    "    img/=255.0\n",
    "    return img,label"
   ]
  },
  {
   "cell_type": "code",
   "execution_count": 31,
   "id": "4f8a7e98",
   "metadata": {},
   "outputs": [],
   "source": [
    "def prepare_dataset(train_examples,validation_examples,test_examples,num_examples,map_fn,batch_size):\n",
    "    train_ds=train_examples.map(map_fn).shuffle(buffer_size=len(train_examples)).batch(batch_size)\n",
    "    valid_ds=validation_examples.map(map_fn).batch(batch_size)\n",
    "    test_ds=test_examples.map(map_fn).batch(batch_size)\n",
    "    return train_ds,valid_ds,test_ds\n",
    "    \n",
    "    \n",
    "train_ds, valid_ds, test_ds = prepare_dataset(train_examples, validation_examples, test_examples, num_examples, map_fn, BATCH_SIZE)"
   ]
  },
  {
   "cell_type": "code",
   "execution_count": 34,
   "id": "6db5323c",
   "metadata": {},
   "outputs": [
    {
     "name": "stdout",
     "output_type": "stream",
     "text": [
      "Model: \"sequential\"\n",
      "_________________________________________________________________\n",
      " Layer (type)                Output Shape              Param #   \n",
      "=================================================================\n",
      " keras_layer (KerasLayer)    (None, 2048)              23561152  \n",
      "                                                                 \n",
      " dense (Dense)               (None, 2)                 4098      \n",
      "                                                                 \n",
      "=================================================================\n",
      "Total params: 23,565,250\n",
      "Trainable params: 4,098\n",
      "Non-trainable params: 23,561,152\n",
      "_________________________________________________________________\n"
     ]
    }
   ],
   "source": [
    "MODULE_HANDLE = 'data3/resnet_50_feature_vector'\n",
    "model = tf.keras.Sequential([\n",
    "    hub.KerasLayer(MODULE_HANDLE, input_shape=(IMAGE_SIZE, IMAGE_SIZE, 3)),\n",
    "    tf.keras.layers.Dense(num_classes, activation='softmax')\n",
    "])\n",
    "model.summary()"
   ]
  },
  {
   "cell_type": "code",
   "execution_count": 37,
   "id": "a7c7eb49",
   "metadata": {},
   "outputs": [],
   "source": [
    "def set_adam_optimizer():\n",
    "    optimizer=tf.keras.optimizers.Adam()\n",
    "    return optimizer\n",
    "\n",
    "def set_sparse_cat_crossentropy_loss():\n",
    "    train_loss=tf.keras.losses.SparseCategoricalCrossentropy()\n",
    "    val_loss=tf.keras.losses.SparseCategoricalCrossentropy()\n",
    "    return train_loss,val_loss\n",
    "\n",
    "def set_sparse_cat_crossentropy_accuracy():\n",
    "    train_accuracy=tf.keras.metrics.SparseCategoricalAccuracy()\n",
    "    val_accuracy=tf.keras.metrics.SparseCategoricalAccuracy()\n",
    "    return train_accuracy,val_accuracy\n",
    "\n"
   ]
  },
  {
   "cell_type": "code",
   "execution_count": 38,
   "id": "16179899",
   "metadata": {},
   "outputs": [],
   "source": [
    "optimizer=set_adam_optimizer()\n",
    "train_loss,val_loss=set_sparse_cat_crossentropy_loss()\n",
    "train_accuracy,val_accuracy=set_sparse_cat_crossentropy_accuracy()"
   ]
  },
  {
   "cell_type": "code",
   "execution_count": 40,
   "id": "6a8f4b90",
   "metadata": {},
   "outputs": [],
   "source": [
    "# this code uses the GPU if available, otherwise uses a CPU\n",
    "device = '/gpu:0' if tf.config.list_physical_devices('GPU') else '/cpu:0'\n",
    "EPOCHS = 2\n",
    "\n",
    "def train_one_step(model,optimizer,x,y,train_loss,train_accuracy):\n",
    "    with tf.GradientTape() as tape:\n",
    "        predictions=model(x)\n",
    "        loss=train_loss(y_true=y,y_pred=predictions)\n",
    "    grads=tape.gradient(loss,model.trainable_variables)\n",
    "    optimizer.apply_gradients(zip(grads,model.trainable_variables))\n",
    "    train_accuracy(y,predictions)\n",
    "    return loss"
   ]
  },
  {
   "cell_type": "code",
   "execution_count": 41,
   "id": "c7abe9ab",
   "metadata": {},
   "outputs": [],
   "source": [
    "@tf.function\n",
    "def train(model, optimizer, epochs, device, train_ds, train_loss, train_accuracy, valid_ds, val_loss, val_accuracy):\n",
    "\n",
    "    step=0\n",
    "    loss=0.0\n",
    "    for epoch in range(epochs):\n",
    "        for x,y in train_ds:\n",
    "            step+=1\n",
    "            with tf.device(device_name=device):\n",
    "                loss=train_one_step(model,optimizer,x,y,train_loss,train_accuracy)\n",
    "            tf.print('step:',step,\n",
    "                    ':train loss',loss,\n",
    "                    ';train accuracy',train_accuracy.result())\n",
    "            \n",
    "    with tf.device(device_name=device):\n",
    "        for x,y in valid_ds:\n",
    "            y_pred=model(x)\n",
    "            loss=val_loss(y,y_pred)\n",
    "            val_accuracy(y,y_pred)\n",
    "    tf.print('val loss',loss,'; val accuracy',val_accuracy.result())\n",
    "                "
   ]
  },
  {
   "cell_type": "code",
   "execution_count": 42,
   "id": "535bf4d9",
   "metadata": {},
   "outputs": [
    {
     "name": "stdout",
     "output_type": "stream",
     "text": [
      "step: 1 :train loss 0.618645906 ;train accuracy 0.625\n",
      "step: 2 :train loss 0.351476848 ;train accuracy 0.75\n",
      "step: 3 :train loss 0.293449521 ;train accuracy 0.791666687\n",
      "step: 4 :train loss 0.165583521 ;train accuracy 0.8359375\n",
      "step: 5 :train loss 0.125602156 ;train accuracy 0.8625\n",
      "step: 6 :train loss 0.192449078 ;train accuracy 0.875\n",
      "step: 7 :train loss 0.0987400934 ;train accuracy 0.883928597\n",
      "step: 8 :train loss 0.0744538084 ;train accuracy 0.8984375\n",
      "step: 9 :train loss 0.0641745329 ;train accuracy 0.909722209\n",
      "step: 10 :train loss 0.0374041758 ;train accuracy 0.91875\n",
      "step: 11 :train loss 0.0463373028 ;train accuracy 0.926136374\n",
      "step: 12 :train loss 0.023214899 ;train accuracy 0.932291687\n",
      "step: 13 :train loss 0.014508104 ;train accuracy 0.9375\n",
      "step: 14 :train loss 0.0124356 ;train accuracy 0.941964269\n",
      "step: 15 :train loss 0.0110391406 ;train accuracy 0.945833325\n",
      "step: 16 :train loss 0.0863772 ;train accuracy 0.947265625\n",
      "step: 17 :train loss 0.0118121915 ;train accuracy 0.95036763\n",
      "step: 18 :train loss 0.0117862541 ;train accuracy 0.953125\n",
      "step: 19 :train loss 0.00562168052 ;train accuracy 0.955592096\n",
      "step: 20 :train loss 0.00736525562 ;train accuracy 0.957812488\n",
      "step: 21 :train loss 0.00460945256 ;train accuracy 0.959821403\n",
      "step: 22 :train loss 0.00257288897 ;train accuracy 0.961647749\n",
      "step: 23 :train loss 0.00324670738 ;train accuracy 0.963315189\n",
      "step: 24 :train loss 0.0017223804 ;train accuracy 0.96484375\n",
      "step: 25 :train loss 0.0097196959 ;train accuracy 0.96625\n",
      "step: 26 :train loss 0.00207598857 ;train accuracy 0.967153311\n",
      "step: 27 :train loss 0.00275609549 ;train accuracy 0.968384087\n",
      "step: 28 :train loss 0.0024912057 ;train accuracy 0.969525933\n",
      "step: 29 :train loss 0.00416621 ;train accuracy 0.970588207\n",
      "step: 30 :train loss 0.0016547842 ;train accuracy 0.971578956\n",
      "step: 31 :train loss 0.00554448972 ;train accuracy 0.972505093\n",
      "step: 32 :train loss 0.00176132354 ;train accuracy 0.973372757\n",
      "step: 33 :train loss 0.00766199175 ;train accuracy 0.974187374\n",
      "step: 34 :train loss 0.00189657323 ;train accuracy 0.974953592\n",
      "step: 35 :train loss 0.0011568648 ;train accuracy 0.975675702\n",
      "step: 36 :train loss 0.000920818304 ;train accuracy 0.976357281\n",
      "step: 37 :train loss 0.0494095646 ;train accuracy 0.976149917\n",
      "step: 38 :train loss 0.000962526421 ;train accuracy 0.976782739\n",
      "step: 39 :train loss 0.00122236 ;train accuracy 0.977382898\n",
      "step: 40 :train loss 0.0017703817 ;train accuracy 0.977952778\n",
      "step: 41 :train loss 0.00142371061 ;train accuracy 0.978494644\n",
      "step: 42 :train loss 0.00152038597 ;train accuracy 0.979010522\n",
      "step: 43 :train loss 0.00215917267 ;train accuracy 0.979502201\n",
      "step: 44 :train loss 0.00341706583 ;train accuracy 0.979971409\n",
      "step: 45 :train loss 0.00289715314 ;train accuracy 0.980419576\n",
      "step: 46 :train loss 0.0026558293 ;train accuracy 0.980848134\n",
      "step: 47 :train loss 0.00133623078 ;train accuracy 0.981258392\n",
      "step: 48 :train loss 0.0026793303 ;train accuracy 0.981651366\n",
      "step: 49 :train loss 0.00147633278 ;train accuracy 0.982028246\n",
      "step: 50 :train loss 0.00197170116 ;train accuracy 0.982389927\n",
      "step: 51 :train loss 0.00203258172 ;train accuracy 0.982737362\n",
      "step: 52 :train loss 0.0016755109 ;train accuracy 0.98296839\n",
      "val loss 0.00145480549 ; val accuracy 1\n"
     ]
    }
   ],
   "source": [
    "train(model, optimizer, EPOCHS, device, train_ds, train_loss, train_accuracy, valid_ds, val_loss, val_accuracy)"
   ]
  },
  {
   "cell_type": "code",
   "execution_count": 45,
   "id": "8eaa552e",
   "metadata": {},
   "outputs": [],
   "source": [
    "test_imgs = []\n",
    "test_labels = []\n",
    "\n",
    "predictions = []\n",
    "with tf.device(device_name=device):\n",
    "    for images, labels in test_ds:\n",
    "        preds = model(images)\n",
    "        preds = preds.numpy()\n",
    "        predictions.extend(preds)\n",
    "\n",
    "        test_imgs.extend(images.numpy())\n",
    "        test_labels.extend(labels.numpy())"
   ]
  },
  {
   "cell_type": "code",
   "execution_count": 46,
   "id": "49243948",
   "metadata": {},
   "outputs": [],
   "source": [
    "class_names = ['horse', 'human']\n",
    "\n",
    "def plot_image(i, predictions_array, true_label, img):\n",
    "    predictions_array, true_label, img = predictions_array[i], true_label[i], img[i]\n",
    "    plt.grid(False)\n",
    "    plt.xticks([])\n",
    "    plt.yticks([])\n",
    "\n",
    "    img = np.squeeze(img)\n",
    "\n",
    "    plt.imshow(img, cmap=plt.cm.binary)\n",
    "\n",
    "    predicted_label = np.argmax(predictions_array)\n",
    "    \n",
    "    # green-colored annotations will mark correct predictions. red otherwise.\n",
    "    if predicted_label == true_label:\n",
    "        color = 'green'\n",
    "    else:\n",
    "        color = 'red'\n",
    "    \n",
    "    # print the true label first\n",
    "    print(true_label)\n",
    "  \n",
    "    # show the image and overlay the prediction\n",
    "    plt.xlabel(\"{} {:2.0f}% ({})\".format(class_names[predicted_label],\n",
    "                                100*np.max(predictions_array),\n",
    "                                class_names[true_label]),\n",
    "                                color=color)\n"
   ]
  },
  {
   "cell_type": "code",
   "execution_count": 51,
   "id": "b3692a23",
   "metadata": {},
   "outputs": [
    {
     "name": "stdout",
     "output_type": "stream",
     "text": [
      "0\n"
     ]
    },
    {
     "data": {
      "image/png": "[encoded data removed]",
      "text/plain": [
       "<Figure size 432x216 with 1 Axes>"
      ]
     },
     "metadata": {},
     "output_type": "display_data"
    }
   ],
   "source": [
    "index = 55\n",
    "plt.figure(figsize=(6,3))\n",
    "plt.subplot(1,2,1)\n",
    "plot_image(index, predictions, test_labels, test_imgs)\n",
    "plt.show()"
   ]
  }
 ],
 "metadata": {
  "kernelspec": {
   "display_name": "Python 3 (ipykernel)",
   "language": "python",
   "name": "python3"
  },
  "language_info": {
   "codemirror_mode": {
    "name": "ipython",
    "version": 3
   },
   "file_extension": ".py",
   "mimetype": "text/x-python",
   "name": "python",
   "nbconvert_exporter": "python",
   "pygments_lexer": "ipython3",
   "version": "3.9.7"
  }
 },
 "nbformat": 4,
 "nbformat_minor": 5
}
