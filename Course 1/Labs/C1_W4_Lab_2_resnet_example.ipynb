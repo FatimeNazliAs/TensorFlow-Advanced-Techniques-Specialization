{
  "nbformat": 4,
  "nbformat_minor": 0,
  "metadata": {
    "colab": {
      "name": "C1_W4_Lab_2_resnet-example",
      "provenance": [],
      "collapsed_sections": []
    },
    "kernelspec": {
      "name": "python3",
      "display_name": "Python 3"
    },
    "language_info": {
      "name": "python"
    },
    "widgets": {
      "application/vnd.jupyter.widget-state+json": {
        "3ff934363b0545b78ee4c361c9418256": {
          "model_module": "@jupyter-widgets/controls",
          "model_name": "HBoxModel",
          "model_module_version": "1.5.0",
          "state": {
            "_dom_classes": [],
            "_model_module": "@jupyter-widgets/controls",
            "_model_module_version": "1.5.0",
            "_model_name": "HBoxModel",
            "_view_count": null,
            "_view_module": "@jupyter-widgets/controls",
            "_view_module_version": "1.5.0",
            "_view_name": "HBoxView",
            "box_style": "",
            "children": [
              "IPY_MODEL_d9a07fe748f44624852064309965f5bd",
              "IPY_MODEL_cd7f573d6cf840f4962bf3d547002eec",
              "IPY_MODEL_cd87c76abf5c4b36a62a2851080dd8ca"
            ],
            "layout": "IPY_MODEL_b6c0b327f22a4497af09de8bc26b8178"
          }
        },
        "d9a07fe748f44624852064309965f5bd": {
          "model_module": "@jupyter-widgets/controls",
          "model_name": "HTMLModel",
          "model_module_version": "1.5.0",
          "state": {
            "_dom_classes": [],
            "_model_module": "@jupyter-widgets/controls",
            "_model_module_version": "1.5.0",
            "_model_name": "HTMLModel",
            "_view_count": null,
            "_view_module": "@jupyter-widgets/controls",
            "_view_module_version": "1.5.0",
            "_view_name": "HTMLView",
            "description": "",
            "description_tooltip": null,
            "layout": "IPY_MODEL_dded7d2ca0964971bdbfdc182617db2c",
            "placeholder": "​",
            "style": "IPY_MODEL_15d958781a2a4a11a8c9d9bfbccf4e58",
            "value": "Dl Completed...: 100%"
          }
        },
        "cd7f573d6cf840f4962bf3d547002eec": {
          "model_module": "@jupyter-widgets/controls",
          "model_name": "FloatProgressModel",
          "model_module_version": "1.5.0",
          "state": {
            "_dom_classes": [],
            "_model_module": "@jupyter-widgets/controls",
            "_model_module_version": "1.5.0",
            "_model_name": "FloatProgressModel",
            "_view_count": null,
            "_view_module": "@jupyter-widgets/controls",
            "_view_module_version": "1.5.0",
            "_view_name": "ProgressView",
            "bar_style": "success",
            "description": "",
            "description_tooltip": null,
            "layout": "IPY_MODEL_97ebf75a447846cabcc3d4d4658d2bfb",
            "max": 4,
            "min": 0,
            "orientation": "horizontal",
            "style": "IPY_MODEL_3c117f4955674013ace0df39baf8b398",
            "value": 4
          }
        },
        "cd87c76abf5c4b36a62a2851080dd8ca": {
          "model_module": "@jupyter-widgets/controls",
          "model_name": "HTMLModel",
          "model_module_version": "1.5.0",
          "state": {
            "_dom_classes": [],
            "_model_module": "@jupyter-widgets/controls",
            "_model_module_version": "1.5.0",
            "_model_name": "HTMLModel",
            "_view_count": null,
            "_view_module": "@jupyter-widgets/controls",
            "_view_module_version": "1.5.0",
            "_view_name": "HTMLView",
            "description": "",
            "description_tooltip": null,
            "layout": "IPY_MODEL_b7db7a1817cb4d23a22eafa7f73b27eb",
            "placeholder": "​",
            "style": "IPY_MODEL_f46d35a21eef4d859cb5e64d8356d0ae",
            "value": " 4/4 [00:00&lt;00:00,  6.19 file/s]"
          }
        },
        "b6c0b327f22a4497af09de8bc26b8178": {
          "model_module": "@jupyter-widgets/base",
          "model_name": "LayoutModel",
          "model_module_version": "1.2.0",
          "state": {
            "_model_module": "@jupyter-widgets/base",
            "_model_module_version": "1.2.0",
            "_model_name": "LayoutModel",
            "_view_count": null,
            "_view_module": "@jupyter-widgets/base",
            "_view_module_version": "1.2.0",
            "_view_name": "LayoutView",
            "align_content": null,
            "align_items": null,
            "align_self": null,
            "border": null,
            "bottom": null,
            "display": null,
            "flex": null,
            "flex_flow": null,
            "grid_area": null,
            "grid_auto_columns": null,
            "grid_auto_flow": null,
            "grid_auto_rows": null,
            "grid_column": null,
            "grid_gap": null,
            "grid_row": null,
            "grid_template_areas": null,
            "grid_template_columns": null,
            "grid_template_rows": null,
            "height": null,
            "justify_content": null,
            "justify_items": null,
            "left": null,
            "margin": null,
            "max_height": null,
            "max_width": null,
            "min_height": null,
            "min_width": null,
            "object_fit": null,
            "object_position": null,
            "order": null,
            "overflow": null,
            "overflow_x": null,
            "overflow_y": null,
            "padding": null,
            "right": null,
            "top": null,
            "visibility": null,
            "width": null
          }
        },
        "dded7d2ca0964971bdbfdc182617db2c": {
          "model_module": "@jupyter-widgets/base",
          "model_name": "LayoutModel",
          "model_module_version": "1.2.0",
          "state": {
            "_model_module": "@jupyter-widgets/base",
            "_model_module_version": "1.2.0",
            "_model_name": "LayoutModel",
            "_view_count": null,
            "_view_module": "@jupyter-widgets/base",
            "_view_module_version": "1.2.0",
            "_view_name": "LayoutView",
            "align_content": null,
            "align_items": null,
            "align_self": null,
            "border": null,
            "bottom": null,
            "display": null,
            "flex": null,
            "flex_flow": null,
            "grid_area": null,
            "grid_auto_columns": null,
            "grid_auto_flow": null,
            "grid_auto_rows": null,
            "grid_column": null,
            "grid_gap": null,
            "grid_row": null,
            "grid_template_areas": null,
            "grid_template_columns": null,
            "grid_template_rows": null,
            "height": null,
            "justify_content": null,
            "justify_items": null,
            "left": null,
            "margin": null,
            "max_height": null,
            "max_width": null,
            "min_height": null,
            "min_width": null,
            "object_fit": null,
            "object_position": null,
            "order": null,
            "overflow": null,
            "overflow_x": null,
            "overflow_y": null,
            "padding": null,
            "right": null,
            "top": null,
            "visibility": null,
            "width": null
          }
        },
        "15d958781a2a4a11a8c9d9bfbccf4e58": {
          "model_module": "@jupyter-widgets/controls",
          "model_name": "DescriptionStyleModel",
          "model_module_version": "1.5.0",
          "state": {
            "_model_module": "@jupyter-widgets/controls",
            "_model_module_version": "1.5.0",
            "_model_name": "DescriptionStyleModel",
            "_view_count": null,
            "_view_module": "@jupyter-widgets/base",
            "_view_module_version": "1.2.0",
            "_view_name": "StyleView",
            "description_width": ""
          }
        },
        "97ebf75a447846cabcc3d4d4658d2bfb": {
          "model_module": "@jupyter-widgets/base",
          "model_name": "LayoutModel",
          "model_module_version": "1.2.0",
          "state": {
            "_model_module": "@jupyter-widgets/base",
            "_model_module_version": "1.2.0",
            "_model_name": "LayoutModel",
            "_view_count": null,
            "_view_module": "@jupyter-widgets/base",
            "_view_module_version": "1.2.0",
            "_view_name": "LayoutView",
            "align_content": null,
            "align_items": null,
            "align_self": null,
            "border": null,
            "bottom": null,
            "display": null,
            "flex": null,
            "flex_flow": null,
            "grid_area": null,
            "grid_auto_columns": null,
            "grid_auto_flow": null,
            "grid_auto_rows": null,
            "grid_column": null,
            "grid_gap": null,
            "grid_row": null,
            "grid_template_areas": null,
            "grid_template_columns": null,
            "grid_template_rows": null,
            "height": null,
            "justify_content": null,
            "justify_items": null,
            "left": null,
            "margin": null,
            "max_height": null,
            "max_width": null,
            "min_height": null,
            "min_width": null,
            "object_fit": null,
            "object_position": null,
            "order": null,
            "overflow": null,
            "overflow_x": null,
            "overflow_y": null,
            "padding": null,
            "right": null,
            "top": null,
            "visibility": null,
            "width": null
          }
        },
        "3c117f4955674013ace0df39baf8b398": {
          "model_module": "@jupyter-widgets/controls",
          "model_name": "ProgressStyleModel",
          "model_module_version": "1.5.0",
          "state": {
            "_model_module": "@jupyter-widgets/controls",
            "_model_module_version": "1.5.0",
            "_model_name": "ProgressStyleModel",
            "_view_count": null,
            "_view_module": "@jupyter-widgets/base",
            "_view_module_version": "1.2.0",
            "_view_name": "StyleView",
            "bar_color": null,
            "description_width": ""
          }
        },
        "b7db7a1817cb4d23a22eafa7f73b27eb": {
          "model_module": "@jupyter-widgets/base",
          "model_name": "LayoutModel",
          "model_module_version": "1.2.0",
          "state": {
            "_model_module": "@jupyter-widgets/base",
            "_model_module_version": "1.2.0",
            "_model_name": "LayoutModel",
            "_view_count": null,
            "_view_module": "@jupyter-widgets/base",
            "_view_module_version": "1.2.0",
            "_view_name": "LayoutView",
            "align_content": null,
            "align_items": null,
            "align_self": null,
            "border": null,
            "bottom": null,
            "display": null,
            "flex": null,
            "flex_flow": null,
            "grid_area": null,
            "grid_auto_columns": null,
            "grid_auto_flow": null,
            "grid_auto_rows": null,
            "grid_column": null,
            "grid_gap": null,
            "grid_row": null,
            "grid_template_areas": null,
            "grid_template_columns": null,
            "grid_template_rows": null,
            "height": null,
            "justify_content": null,
            "justify_items": null,
            "left": null,
            "margin": null,
            "max_height": null,
            "max_width": null,
            "min_height": null,
            "min_width": null,
            "object_fit": null,
            "object_position": null,
            "order": null,
            "overflow": null,
            "overflow_x": null,
            "overflow_y": null,
            "padding": null,
            "right": null,
            "top": null,
            "visibility": null,
            "width": null
          }
        },
        "f46d35a21eef4d859cb5e64d8356d0ae": {
          "model_module": "@jupyter-widgets/controls",
          "model_name": "DescriptionStyleModel",
          "model_module_version": "1.5.0",
          "state": {
            "_model_module": "@jupyter-widgets/controls",
            "_model_module_version": "1.5.0",
            "_model_name": "DescriptionStyleModel",
            "_view_count": null,
            "_view_module": "@jupyter-widgets/base",
            "_view_module_version": "1.2.0",
            "_view_name": "StyleView",
            "description_width": ""
          }
        }
      }
    }
  },
  "cells": [
    {
      "cell_type": "code",
      "execution_count": null,
      "metadata": {
        "id": "Og1kAWD1luXB"
      },
      "outputs": [],
      "source": [
        "import tensorflow as tf\n",
        "import tensorflow_datasets as tfds\n",
        "from keras.layers import Layer"
      ]
    },
    {
      "cell_type": "code",
      "source": [
        "class IdentityBlock(tf.keras.Model):\n",
        "  def __init__(self,filters,kernel_size):\n",
        "    super(IdentityBlock, self).__init__(name='')\n",
        "    self.conv1=tf.keras.layers.Conv2D(filters,kernel_size,padding=\"same\")\n",
        "    self.bn1=tf.keras.layers.BatchNormalization()\n",
        "\n",
        "    self.conv2=tf.keras.layers.Conv2D(filters,kernel_size,padding=\"same\")\n",
        "    self.bn2=tf.keras.layers.BatchNormalization()\n",
        "\n",
        "    self.act=tf.keras.layers.Activation('relu')\n",
        "    self.add=tf.keras.layers.Add()\n",
        "\n",
        "\n",
        "  def call(self,input_tensor):\n",
        "    x=self.conv1(input_tensor)\n",
        "    x=self.bn1(x)\n",
        "    x=self.act(x)\n",
        "\n",
        "    x=self.conv2(x)\n",
        "    x=self.bn2(x)\n",
        "\n",
        "    x=self.add([x,input_tensor])\n",
        "    x=self.act(x)\n",
        "\n",
        "    return x\n",
        "\n"
      ],
      "metadata": {
        "id": "AssbAylWlw0m"
      },
      "execution_count": null,
      "outputs": []
    },
    {
      "cell_type": "code",
      "source": [
        "class ResNet(tf.keras.Model):\n",
        "  def __init__(self,num_classes):\n",
        "    super(ResNet, self).__init__()\n",
        "    self.conv=tf.keras.layers.Conv2D(64,7,padding=\"same\")\n",
        "    self.bn=tf.keras.layers.BatchNormalization()\n",
        "    self.act=tf.keras.layers.Activation('relu')\n",
        "    self.max_pool=tf.keras.layers.MaxPool2D((3,3))\n",
        "    \n",
        "    self.id1a=IdentityBlock(64,3)\n",
        "    self.id1b=IdentityBlock(64,3)\n",
        "\n",
        "    self.global_pool=tf.keras.layers.GlobalAveragePooling2D()\n",
        "    self.classifier=tf.keras.layers.Dense(num_classes,activation='softmax')\n",
        "\n",
        "  def call(self,inputs):\n",
        "    x=self.conv(inputs)\n",
        "    x=self.bn(x)\n",
        "    x=self.act(x)\n",
        "    x=self.max_pool(x)\n",
        "\n",
        "    x=self.id1a(x)\n",
        "    x=self.id1b(x)\n",
        "\n",
        "    x=self.global_pool(x)\n",
        "    return self.classifier(x)\n",
        "    \n",
        "\n",
        "\n"
      ],
      "metadata": {
        "id": "ATQh-1ONnXjV"
      },
      "execution_count": null,
      "outputs": []
    },
    {
      "cell_type": "code",
      "source": [
        "def preprocess(features):\n",
        "  return tf.cast(features['image'], tf.float32) / 255., features['label']\n",
        "\n",
        "resnet=ResNet(10)\n",
        "resnet.compile(optimizer='adam',loss='sparse_categorical_crossentropy',metrics=['accuracy'])\n",
        "dataset=tfds.load('mnist',split=tfds.Split.TRAIN,data_dir='./data')\n",
        "dataset = dataset.map(preprocess).batch(32)\n",
        "resnet.fit(dataset, epochs=1)\n"
      ],
      "metadata": {
        "colab": {
          "base_uri": "https://localhost:8080/",
          "height": 243,
          "referenced_widgets": [
            "3ff934363b0545b78ee4c361c9418256",
            "d9a07fe748f44624852064309965f5bd",
            "cd7f573d6cf840f4962bf3d547002eec",
            "cd87c76abf5c4b36a62a2851080dd8ca",
            "b6c0b327f22a4497af09de8bc26b8178",
            "dded7d2ca0964971bdbfdc182617db2c",
            "15d958781a2a4a11a8c9d9bfbccf4e58",
            "97ebf75a447846cabcc3d4d4658d2bfb",
            "3c117f4955674013ace0df39baf8b398",
            "b7db7a1817cb4d23a22eafa7f73b27eb",
            "f46d35a21eef4d859cb5e64d8356d0ae"
          ]
        },
        "id": "9skTNDvdotTP",
        "outputId": "b8019296-e16e-4891-b8c1-944f92c4cc08"
      },
      "execution_count": null,
      "outputs": [
        {
          "output_type": "stream",
          "name": "stdout",
          "text": [
            "\u001b[1mDownloading and preparing dataset mnist/3.0.1 (download: 11.06 MiB, generated: 21.00 MiB, total: 32.06 MiB) to ./data/mnist/3.0.1...\u001b[0m\n"
          ]
        },
        {
          "output_type": "stream",
          "name": "stderr",
          "text": [
            "WARNING:absl:Dataset mnist is hosted on GCS. It will automatically be downloaded to your\n",
            "local data directory. If you'd instead prefer to read directly from our public\n",
            "GCS bucket (recommended if you're running on GCP), you can instead pass\n",
            "`try_gcs=True` to `tfds.load` or set `data_dir=gs://tfds-data/datasets`.\n",
            "\n"
          ]
        },
        {
          "output_type": "display_data",
          "data": {
            "text/plain": [
              "Dl Completed...:   0%|          | 0/4 [00:00<?, ? file/s]"
            ],
            "application/vnd.jupyter.widget-view+json": {
              "version_major": 2,
              "version_minor": 0,
              "model_id": "3ff934363b0545b78ee4c361c9418256"
            }
          },
          "metadata": {}
        },
        {
          "output_type": "stream",
          "name": "stdout",
          "text": [
            "\n",
            "\u001b[1mDataset mnist downloaded and prepared to ./data/mnist/3.0.1. Subsequent calls will reuse this data.\u001b[0m\n",
            "1875/1875 [==============================] - 249s 132ms/step - loss: 0.1251 - accuracy: 0.9662\n"
          ]
        },
        {
          "output_type": "execute_result",
          "data": {
            "text/plain": [
              "<keras.callbacks.History at 0x7f7b98e746d0>"
            ]
          },
          "metadata": {},
          "execution_count": 5
        }
      ]
    }
  ]
}