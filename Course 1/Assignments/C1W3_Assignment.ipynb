{
  "nbformat": 4,
  "nbformat_minor": 0,
  "metadata": {
    "colab": {
      "name": "C1W3_Assignment",
      "provenance": [],
      "collapsed_sections": []
    },
    "kernelspec": {
      "name": "python3",
      "display_name": "Python 3"
    },
    "language_info": {
      "name": "python"
    }
  },
  "cells": [
    {
      "cell_type": "code",
      "execution_count": null,
      "metadata": {
        "id": "48sVdPuwl4Id"
      },
      "outputs": [],
      "source": [
        "import tensorflow as tf\n",
        "from keras.layers import Layer\n",
        "\n",
        "import keras.utils"
      ]
    },
    {
      "cell_type": "code",
      "source": [
        "class SimpleQuadratic(Layer):\n",
        "  def __init__(self,units=32,activation=None):\n",
        "    super(SimpleQuadratic,self).__init__()\n",
        "    self.units=units\n",
        "    self.activation=tf.keras.activations.get(activation)\n",
        "  \n",
        "  def build(self,input_shape):\n",
        "    a_init=tf.random_normal_initializer()\n",
        "    a_init_val=a_init(shape=(input_shape[-1],self.units),dtype='float32')\n",
        "    self.a=tf.Variable(initial_value=a_init_val,trainable=True)\n",
        "\n",
        "    b_init=tf.random_normal_initializer()\n",
        "    b_init_val=b_init(shape=(input_shape[-1], self.units), dtype='float32')\n",
        "    self.b=tf.Variable(initial_value=b_init_val,trainable=True)\n",
        "\n",
        "    c_init=tf.zeros_initializer()\n",
        "    c_init_val=c_init(shape=(self.units,),dtype='float32')\n",
        "    self.c=tf.Variable(initial_value=  c_init_val,trainable=True)\n",
        "\n",
        "  def call(self,inputs):\n",
        "    x_squared=tf.math.square(inputs)\n",
        "    x_squared_times_a=tf.matmul(x_squared,self.a)\n",
        "    x_times_b=tf.matmul(inputs,self.b)\n",
        "    x2a_plus_xb_plus_c=x_squared_times_a+x_times_b+self.c\n",
        "\n",
        "    return self.activation( x2a_plus_xb_plus_c)\n",
        "\n",
        "        \n",
        "\n",
        "   "
      ],
      "metadata": {
        "id": "qcxCf1fUmAcp"
      },
      "execution_count": null,
      "outputs": []
    },
    {
      "cell_type": "code",
      "source": [
        "mnist = tf.keras.datasets.mnist\n",
        "\n",
        "(x_train, y_train),(x_test, y_test) = mnist.load_data()\n",
        "x_train, x_test = x_train / 255.0, x_test / 255.0\n",
        "\n",
        "model = tf.keras.models.Sequential([\n",
        "  tf.keras.layers.Flatten(input_shape=(28, 28)),\n",
        "  SimpleQuadratic(128, activation='relu'),\n",
        "  tf.keras.layers.Dropout(0.2),\n",
        "  tf.keras.layers.Dense(10, activation='softmax')\n",
        "])\n",
        "\n",
        "model.compile(optimizer='adam',\n",
        "              loss='sparse_categorical_crossentropy',\n",
        "              metrics=['accuracy'])\n",
        "\n",
        "model.fit(x_train, y_train, epochs=5)\n",
        "model.evaluate(x_test, y_test)"
      ],
      "metadata": {
        "colab": {
          "base_uri": "https://localhost:8080/"
        },
        "id": "Vz2XyGKWO0Ru",
        "outputId": "1fbeaf33-0b9e-49e4-d37b-c0365697993d"
      },
      "execution_count": null,
      "outputs": [
        {
          "output_type": "stream",
          "name": "stdout",
          "text": [
            "Downloading data from https://storage.googleapis.com/tensorflow/tf-keras-datasets/mnist.npz\n",
            "11493376/11490434 [==============================] - 0s 0us/step\n",
            "11501568/11490434 [==============================] - 0s 0us/step\n",
            "Epoch 1/5\n",
            "1875/1875 [==============================] - 7s 3ms/step - loss: 0.2725 - accuracy: 0.9205\n",
            "Epoch 2/5\n",
            "1875/1875 [==============================] - 6s 3ms/step - loss: 0.1364 - accuracy: 0.9590\n",
            "Epoch 3/5\n",
            "1875/1875 [==============================] - 6s 3ms/step - loss: 0.1014 - accuracy: 0.9689\n",
            "Epoch 4/5\n",
            "1875/1875 [==============================] - 6s 3ms/step - loss: 0.0836 - accuracy: 0.9734\n",
            "Epoch 5/5\n",
            "1875/1875 [==============================] - 6s 3ms/step - loss: 0.0714 - accuracy: 0.9774\n",
            "313/313 [==============================] - 1s 2ms/step - loss: 0.0721 - accuracy: 0.9781\n"
          ]
        },
        {
          "output_type": "execute_result",
          "data": {
            "text/plain": [
              "[0.07205833494663239, 0.9781000018119812]"
            ]
          },
          "metadata": {},
          "execution_count": 3
        }
      ]
    }
  ]
}