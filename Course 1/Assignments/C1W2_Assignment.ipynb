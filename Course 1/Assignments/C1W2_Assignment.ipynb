{
  "nbformat": 4,
  "nbformat_minor": 0,
  "metadata": {
    "colab": {
      "name": "C1W2_Assignment",
      "provenance": []
    },
    "kernelspec": {
      "name": "python3",
      "display_name": "Python 3"
    },
    "language_info": {
      "name": "python"
    }
  },
  "cells": [
    {
      "cell_type": "markdown",
      "source": [
        "**W2 Assignment: Creating a Custom Loss Function**\n",
        "\n",
        "This short exercise will require you to write a simple linear regression neural network that is trained on two arrays:  𝑥𝑠  (inputs) and  𝑦𝑠  (labels), where the relationship between each corresponding element is  𝑦=2𝑥−1 .\n",
        "\n",
        "𝑥𝑠=[−1.0,0.0,1.0,2.0,3.0,4.0] \n",
        "𝑦𝑠=[−3.0,−1.0,1.0,3.0,5.0,7.0] \n",
        "You will need to implement a custom loss function that returns the root mean square error (RMSE) of  𝑦𝑡𝑟𝑢𝑒−𝑦𝑝𝑟𝑒𝑑 . Let's begin!"
      ],
      "metadata": {
        "id": "r5t6wx0AgWus"
      }
    },
    {
      "cell_type": "code",
      "execution_count": null,
      "metadata": {
        "id": "NX1dDhdMgNcL"
      },
      "outputs": [],
      "source": [
        "import tensorflow as tf\n",
        "import numpy as np\n",
        "from tensorflow import keras\n",
        "from keras import backend as K\n",
        "\n",
        "import keras.utils"
      ]
    },
    {
      "cell_type": "code",
      "source": [
        "xs = np.array([-1.0,  0.0, 1.0, 2.0, 3.0, 4.0], dtype=float)\n",
        "ys = np.array([-3.0, -1.0, 1.0, 3.0, 5.0, 7.0], dtype=float)"
      ],
      "metadata": {
        "id": "y-KSW1QHgppO"
      },
      "execution_count": null,
      "outputs": []
    },
    {
      "cell_type": "code",
      "source": [
        "def my_rmse(y_true,y_pred):\n",
        "  error=y_true-y_pred\n",
        "  sqr_error=K.square(error)\n",
        "  mean_sqr_error=K.mean(sqr_error)\n",
        "  sqrt_mean_sqr_error=K.sqrt(mean_sqr_error)\n",
        "  return sqrt_mean_sqr_error"
      ],
      "metadata": {
        "id": "GqiWXdlNhMcA"
      },
      "execution_count": null,
      "outputs": []
    },
    {
      "cell_type": "code",
      "source": [
        "model=tf.keras.Sequential([keras.layers.Dense(units=1,input_shape=[1])])\n",
        "model.compile(optimizer='sgd',loss=my_rmse)\n",
        "model.fit(xs,ys,epochs=500,verbose=0)\n",
        "print(model.predict([10.0]))\n"
      ],
      "metadata": {
        "colab": {
          "base_uri": "https://localhost:8080/"
        },
        "id": "LsdJgi2EjgIM",
        "outputId": "119c00dd-d9a5-4788-a3d6-fec911026876"
      },
      "execution_count": null,
      "outputs": [
        {
          "output_type": "stream",
          "name": "stdout",
          "text": [
            "[[19.051445]]\n"
          ]
        }
      ]
    }
  ]
}